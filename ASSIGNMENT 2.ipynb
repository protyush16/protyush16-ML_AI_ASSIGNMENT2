{
 "cells": [
  {
   "cell_type": "markdown",
   "metadata": {},
   "source": [
    "# ASSIGNMENT 2\n",
    "Task 1:\n",
    "1.1\n",
    "Write a Python Program to implement your own myreduce() function which works exactly like\n",
    "Python's built-in function reduce()"
   ]
  },
  {
   "cell_type": "code",
   "execution_count": 1,
   "metadata": {},
   "outputs": [
    {
     "name": "stdout",
     "output_type": "stream",
     "text": [
      "10\n"
     ]
    }
   ],
   "source": [
    "def myreduce(func, lst):                                #use *lst to pass multiple arguments (i.e  1,2,3,4 instead of list)\n",
    "    if len(lst) == 0:\n",
    "        return None\n",
    "    result = lst[0]\n",
    "    for i in range(1, len(lst)):\n",
    "        result = func(result, lst[i])\n",
    "    return result\n",
    "t = [1,2,3,4]\n",
    "\n",
    "print(myreduce(lambda x,y: x+y,t ))"
   ]
  },
  {
   "cell_type": "markdown",
   "metadata": {},
   "source": [
    "1.2\n",
    "Write a Python program to implement your own myfilter() function which works exactly like\n",
    "Python's built-in function filter()"
   ]
  },
  {
   "cell_type": "code",
   "execution_count": 3,
   "metadata": {},
   "outputs": [
    {
     "name": "stdout",
     "output_type": "stream",
     "text": [
      "[1, 3, 5, 7, 11, 13, 17, 19]\n"
     ]
    }
   ],
   "source": [
    "def myfilter(list):\n",
    "    prime_list=[1]\n",
    "    for i in list:\n",
    "        prime = 0\n",
    "        for j in range(2,i):\n",
    "            if(i%j == 0):\n",
    "                prime = 0\n",
    "                break\n",
    "            else:\n",
    "                prime = 1\n",
    "                continue\n",
    "        if (prime):\n",
    "            prime_list.append(i)\n",
    "    return prime_list       \n",
    "list = range(1,20)\n",
    "print(myfilter(list))"
   ]
  },
  {
   "cell_type": "markdown",
   "metadata": {},
   "source": [
    "2.\n",
    "Implement List comprehensions to produce the following lists.\n",
    "Write List comprehensions to produce the following Lists\n",
    "['A', 'C', 'A', 'D', 'G', 'I', ’L’, ‘ D’]\n",
    "['x', 'xx', 'xxx', 'xxxx', 'y', 'yy', 'yyy', 'yyyy', 'z', 'zz', 'zzz', 'zzzz']\n",
    "['x', 'y', 'z', 'xx', 'yy', 'zz', 'xx', 'yy', 'zz', 'xxxx', 'yyyy', 'zzzz']"
   ]
  },
  {
   "cell_type": "code",
   "execution_count": 59,
   "metadata": {},
   "outputs": [
    {
     "name": "stdout",
     "output_type": "stream",
     "text": [
      "['A', 'C', 'A', 'D', 'G', 'I', 'L', 'D']\n"
     ]
    }
   ],
   "source": [
    "list = 'ACADGILD'\n",
    "\n",
    "\n",
    "print([letter for letter in list])\n"
   ]
  },
  {
   "cell_type": "code",
   "execution_count": 5,
   "metadata": {},
   "outputs": [
    {
     "name": "stdout",
     "output_type": "stream",
     "text": [
      "['x', 'xx', 'xxx', 'xxxx', 'y', 'yy', 'yyy', 'yyyy', 'z', 'zz', 'zzz', 'zzzz']\n"
     ]
    }
   ],
   "source": [
    "number = range(1,5)\n",
    "list = ['x','y','z']\n",
    "print([i*j for i in list for j in number])"
   ]
  },
  {
   "cell_type": "code",
   "execution_count": 6,
   "metadata": {},
   "outputs": [
    {
     "name": "stdout",
     "output_type": "stream",
     "text": [
      "['x', 'y', 'z', 'xx', 'yy', 'zz', 'xx', 'yy', 'zz', 'xxxx', 'yyyy', 'zzzz']\n"
     ]
    }
   ],
   "source": [
    "numberouter = range(1,3)\n",
    "numberinner = range(1,3)\n",
    "list = ['x','y','z']\n",
    "print([k*j*i for i in numberouter for j in numberinner for k in list])"
   ]
  },
  {
   "cell_type": "markdown",
   "metadata": {},
   "source": [
    "3.\n",
    "Implement a function longestWord() that takes a list of words and returns the longest one."
   ]
  },
  {
   "cell_type": "code",
   "execution_count": 8,
   "metadata": {},
   "outputs": [
    {
     "name": "stdout",
     "output_type": "stream",
     "text": [
      "['excellent']\n"
     ]
    }
   ],
   "source": [
    "def longestWords(l):\n",
    "\n",
    "\n",
    "    wordlength={}\n",
    "    longestwords=[]  # Blank List is initialized to add  words  larger than the number provided to function after  iteration\n",
    "    for word in l:\n",
    "        wordlength[word]=len(word)\n",
    "        maxlength = max(wordlength.values())\n",
    "    for key,value in wordlength.items():\n",
    "        if(value >= maxlength):  \n",
    "            longestwords.append(key)\n",
    "    return longestwords \n",
    "Word_List = ['Ineuron','Courses','are','excellent']\n",
    "LongestWord = longestWords(Word_List)\n",
    "print(LongestWord)"
   ]
  },
  {
   "cell_type": "markdown",
   "metadata": {},
   "source": [
    "Task 2:\n",
    "1.1\n",
    "Write a Python Program(with class concepts) to find the area of the triangle using the below\n",
    "formula.\n",
    "area = (s*(s-a)*(s-b)*(s-c)) ** 0.5\n",
    "Function to take the length of the sides of triangle from user should be defined in the parent\n",
    "class and function to calculate the area should be defined in subclass."
   ]
  },
  {
   "cell_type": "code",
   "execution_count": 13,
   "metadata": {},
   "outputs": [
    {
     "name": "stdout",
     "output_type": "stream",
     "text": [
      "Enter the value of a = 1\n",
      "Enter the value of b = 2\n",
      "Enter the value of c = 2\n",
      "area : 0.9682458365518543\n"
     ]
    }
   ],
   "source": [
    "    class Triangle:\n",
    "     \n",
    "     def __init__(self,a,b,c):\n",
    "            self.a = float(a)\n",
    "            self.b = float(b)\n",
    "            self.c = float(c)\n",
    "    \n",
    "    class Area(Triangle):\n",
    "    \n",
    "     def area(self):\n",
    "            s=(self.a + self.b + self.c)/2\n",
    "            return((s*(s-self.a)*(s-self.b)*(s-self.c))**0.5)\n",
    "     \n",
    "    a=input(\"Enter the value of a = \")\n",
    "    b=input(\"Enter the value of b = \")\n",
    "    c=input(\"Enter the value of c = \")\n",
    "    t = Area(a, b, c)\n",
    "    print(\"area : {}\".format(t.area()))"
   ]
  },
  {
   "cell_type": "markdown",
   "metadata": {},
   "source": [
    "1.2\n",
    "Write a function filter_long_words() that takes a list of words and an integer n and returns the list\n",
    "of words that are longer than n."
   ]
  },
  {
   "cell_type": "code",
   "execution_count": 15,
   "metadata": {},
   "outputs": [
    {
     "name": "stdout",
     "output_type": "stream",
     "text": [
      "['Ineuron', 'Courses', 'excellent']\n"
     ]
    }
   ],
   "source": [
    "def filter_long_words(l,n):\n",
    "\n",
    "\n",
    "    wordlength={}\n",
    "    largerwords=[]  # Blank List is initialized to add  words  larger than the number provided to function after  iteration\n",
    "    for word in l:\n",
    "        wordlength[word]=len(word)\n",
    "   \n",
    "    for key,value in wordlength.items():\n",
    "        if(value > n):  # Comparing lengths of each word in the passed list with the length provided to function and if it is greater then keep adding that word in the longwords list\n",
    "            largerwords.append(key)\n",
    "    return largerwords \n",
    "Word_List = ['Ineuron','Courses','are','excellent']\n",
    "LargerWordsList = filter_long_words(Word_List,5)\n",
    "print(LargerWordsList)"
   ]
  },
  {
   "cell_type": "markdown",
   "metadata": {},
   "source": [
    "2.1\n",
    "Write a Python program using function concept that maps list of words into a list of integers\n",
    "representing the lengths of the corresponding words .\n",
    "Hint: If a list [ ab,cde,erty] is passed on to the python function output should come as [2,3,4]\n",
    "Here 2,3 and 4 are the lengths of the words in the list."
   ]
  },
  {
   "cell_type": "code",
   "execution_count": 16,
   "metadata": {},
   "outputs": [
    {
     "name": "stdout",
     "output_type": "stream",
     "text": [
      "[1, 2, 3, 3]\n"
     ]
    }
   ],
   "source": [
    "def word_length(listofwords):\n",
    "    \n",
    "    wordlength = []               #intialise a blank list to hold length of words \n",
    "    z = 0\n",
    "    for i in listofwords:\n",
    "        z = len(i)\n",
    "        wordlength.append(z)\n",
    "    return wordlength\n",
    "\n",
    "l = ['a', 'bb', 'ccc','yxc']\n",
    "x = word_length(l)\n",
    "print(x)"
   ]
  },
  {
   "cell_type": "markdown",
   "metadata": {},
   "source": [
    "2.2\n",
    "Write a Python function which takes a character (i.e. a string of length 1) and returns True if it is\n",
    "a vowel, False otherwise."
   ]
  },
  {
   "cell_type": "code",
   "execution_count": 94,
   "metadata": {},
   "outputs": [
    {
     "name": "stdout",
     "output_type": "stream",
     "text": [
      "enter letter = aa\n",
      "Warning -- Enter only one character\n",
      "False\n"
     ]
    }
   ],
   "source": [
    "def vowel(l):\n",
    "\n",
    "    if len(l) > 1:\n",
    "        print(\"Warning -- Enter only one character\")\n",
    "         \n",
    "    \n",
    "    if (l == 'a'or l=='e' or l=='i' or l== 'o' or  l=='u' or l == 'A' or l== 'E' or l=='I' or l== 'O'or l== 'U'):\n",
    "        return True\n",
    "    else:\n",
    "         return False\n",
    "l = input(\"enter letter = \")\n",
    "t = vowel(l)\n",
    "print(t)"
   ]
  },
  {
   "cell_type": "code",
   "execution_count": null,
   "metadata": {},
   "outputs": [],
   "source": []
  },
  {
   "cell_type": "code",
   "execution_count": null,
   "metadata": {},
   "outputs": [],
   "source": []
  }
 ],
 "metadata": {
  "kernelspec": {
   "display_name": "Python 3",
   "language": "python",
   "name": "python3"
  },
  "language_info": {
   "codemirror_mode": {
    "name": "ipython",
    "version": 3
   },
   "file_extension": ".py",
   "mimetype": "text/x-python",
   "name": "python",
   "nbconvert_exporter": "python",
   "pygments_lexer": "ipython3",
   "version": "3.6.7"
  }
 },
 "nbformat": 4,
 "nbformat_minor": 2
}
